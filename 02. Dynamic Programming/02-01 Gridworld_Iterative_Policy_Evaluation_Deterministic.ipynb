{
  "nbformat": 4,
  "nbformat_minor": 0,
  "metadata": {
    "colab": {
      "provenance": []
    },
    "kernelspec": {
      "name": "python3",
      "display_name": "Python 3"
    },
    "language_info": {
      "name": "python"
    }
  },
  "cells": [
    {
      "cell_type": "code",
      "execution_count": 1,
      "metadata": {
        "id": "Fa65hWLuw_Yc"
      },
      "outputs": [],
      "source": [
        "import numpy as np"
      ]
    },
    {
      "cell_type": "code",
      "source": [
        "ACTION_SPACE = ('U', 'D', 'L', 'R')"
      ],
      "metadata": {
        "id": "4PXVOHObxNYB"
      },
      "execution_count": 2,
      "outputs": []
    },
    {
      "cell_type": "code",
      "source": [
        "class Grid:\n",
        "  def __init__(self, rows, cols, start):\n",
        "    self.rows = rows\n",
        "    self.cols = cols\n",
        "    self.i = start[0]\n",
        "    self.j = start[1]\n",
        "\n",
        "  def set(self, rewards, actions):\n",
        "    # rewards : dict of (i, j) -> reward\n",
        "    # actions : dist of (i, j) -> list of possible actions\n",
        "    self.rewards = rewards\n",
        "    self.actions = actions\n",
        "\n",
        "  def set_state(self, s):\n",
        "    self.i = s[0]\n",
        "    self.j = s[1]\n",
        "\n",
        "  def current_state(self):\n",
        "    return (self.i, self.j)\n",
        "\n",
        "  def is_terminal(self, s):\n",
        "    return s not in self.actions\n",
        "\n",
        "  def reset(self):\n",
        "    # put agent back in start position\n",
        "    self.i = 2\n",
        "    self.j = 0\n",
        "    return (self.i, self.j)\n",
        "\n",
        "  def get_next_state(self, s, a):\n",
        "    i, j = s[0], s[1]\n",
        "\n",
        "    if a in self.actions[(i, j)]:\n",
        "      if a == 'U':\n",
        "        i -= 1\n",
        "      elif a == 'D':\n",
        "        i += 1\n",
        "      elif a == 'L':\n",
        "        j -= 1\n",
        "      elif a == 'R':\n",
        "        j += 1\n",
        "\n",
        "    return i, j\n",
        "\n",
        "  def move(self, action):\n",
        "    if action in self.actions[(self.i, self.j)]:\n",
        "      if action == 'U':\n",
        "        self.i -= 1\n",
        "      elif action == 'D':\n",
        "        self.i += 1\n",
        "      elif action == 'L':\n",
        "        self.j -= 1\n",
        "      elif action == 'R':\n",
        "        self.j += 1\n",
        "\n",
        "    return self.rewards.get((self.i, self.j), 0)\n",
        "\n",
        "  def undo_move(self, action):\n",
        "    if action == 'U':\n",
        "      self.i += 1\n",
        "    elif action == 'D':\n",
        "      self.i -= 1\n",
        "    elif action == 'L':\n",
        "      self.j += 1\n",
        "    elif action == 'R':\n",
        "      self.j -= 1\n",
        "\n",
        "  def game_over(self):\n",
        "    return (self.i, self.j) not in self.actions\n",
        "\n",
        "  def all_states(self):\n",
        "    return set(self.actions.keys()) | set(self.rewards.keys())"
      ],
      "metadata": {
        "id": "P5hC-dgGxS5d"
      },
      "execution_count": 3,
      "outputs": []
    },
    {
      "cell_type": "code",
      "source": [
        "def standard_grid():\n",
        "  g = Grid(3, 4, (2, 0))\n",
        "  rewards = {(0, 3): 1, (1, 3): -1}\n",
        "  actions = {\n",
        "      (0, 0): ('D', 'R'),\n",
        "      (0, 1): ('L', 'R'),\n",
        "      (0, 2): ('L', 'D', 'R'),\n",
        "      (1, 0): ('U', 'D'),\n",
        "      (1, 2): ('U', 'D', 'R'),\n",
        "      (2, 0): ('U', 'R'),\n",
        "      (2, 1): ('L', 'R'),\n",
        "      (2, 2): ('L', 'R', 'U'),\n",
        "      (2, 3): ('L', 'U'),\n",
        "  }\n",
        "  g.set(rewards, actions)\n",
        "  return g"
      ],
      "metadata": {
        "id": "wl7WIO0dy2WR"
      },
      "execution_count": 4,
      "outputs": []
    },
    {
      "cell_type": "code",
      "source": [
        "SMALL_ENOUGH = 1e-3 # threshold for convergence"
      ],
      "metadata": {
        "id": "WsQrQVSDSTYi"
      },
      "execution_count": 5,
      "outputs": []
    },
    {
      "cell_type": "code",
      "source": [
        "def print_values(V, g):\n",
        "  for i in range(g.rows):\n",
        "    print(\"---------------------------\")\n",
        "    for j in range(g.cols):\n",
        "      v = V.get((i, j), 0)\n",
        "      if v >= 0:\n",
        "        print(\" %.2f|\" % v, end=\"\")\n",
        "      else:\n",
        "        print(\"%.2f|\" % v, end=\"\")\n",
        "    print(\"\")"
      ],
      "metadata": {
        "id": "34TlZGToSmEA"
      },
      "execution_count": 12,
      "outputs": []
    },
    {
      "cell_type": "code",
      "source": [
        "def print_policy(P, g):\n",
        "  for i in range(g.rows):\n",
        "    print(\"---------------------------\")\n",
        "    for j in range(g.cols):\n",
        "      a = P.get((i, j), ' ')\n",
        "      print(\"  %s  |\" % a, end=\"\")\n",
        "    print(\"\")"
      ],
      "metadata": {
        "id": "sRYOKP3gSxWB"
      },
      "execution_count": 7,
      "outputs": []
    },
    {
      "cell_type": "code",
      "source": [
        "transition_probs = {}\n",
        "# transition_probs[(s, a, s')] = p(s'| s, a)\n",
        "# any key not present has probability zero\n",
        "\n",
        "rewards = {}\n",
        "# key -> (s, a, s')\n",
        "\n",
        "grid = standard_grid()\n",
        "for i in range(grid.rows):\n",
        "  for j in range(grid.cols):\n",
        "    s = (i, j)\n",
        "    if not grid.is_terminal(s):\n",
        "      for a in ACTION_SPACE:\n",
        "        s2 = grid.get_next_state(s, a)\n",
        "        transition_probs[(s, a, s2)] = 1\n",
        "        if s2 in grid.rewards:\n",
        "          rewards[(s, a, s2)] = grid.rewards[s2]"
      ],
      "metadata": {
        "id": "ya52WImbS_3g"
      },
      "execution_count": 8,
      "outputs": []
    },
    {
      "cell_type": "code",
      "source": [
        "# fixed policy\n",
        "policy = {\n",
        "    (2, 0): 'U',\n",
        "    (1, 0): 'U',\n",
        "    (0, 0): 'R',\n",
        "    (0, 1): 'R',\n",
        "    (0, 2): 'R',\n",
        "    (1, 2): 'U',\n",
        "    (2, 1): 'R',\n",
        "    (2, 2): 'U',\n",
        "    (2, 3): 'L'\n",
        "}\n",
        "\n",
        "print_policy(policy, grid)"
      ],
      "metadata": {
        "colab": {
          "base_uri": "https://localhost:8080/"
        },
        "id": "IjMdwj1FUgpy",
        "outputId": "fd3904dd-ccf7-41d7-dc20-b9291cfb5df7"
      },
      "execution_count": 9,
      "outputs": [
        {
          "output_type": "stream",
          "name": "stdout",
          "text": [
            "---------------------------\n",
            "  R  |  R  |  R  |     |\n",
            "---------------------------\n",
            "  U  |     |  U  |     |\n",
            "---------------------------\n",
            "  U  |  R  |  U  |  L  |\n"
          ]
        }
      ]
    },
    {
      "cell_type": "code",
      "source": [
        "gamma = 0.9 # discount factor"
      ],
      "metadata": {
        "id": "0TAP_ABZWGWb"
      },
      "execution_count": 10,
      "outputs": []
    },
    {
      "cell_type": "code",
      "source": [
        "# initialize V(s) = 0\n",
        "V = {}\n",
        "for s in grid.all_states():\n",
        "  V[s] = 0\n",
        "\n",
        "# repeat until convergence\n",
        "it = 0\n",
        "while True:\n",
        "  biggest_change = 0\n",
        "  for s in grid.all_states():\n",
        "    if not grid.is_terminal(s):\n",
        "      old_v = V[s]\n",
        "      new_v = 0 # will accumulate the answer\n",
        "      for a in ACTION_SPACE:\n",
        "        for s2 in grid.all_states():\n",
        "\n",
        "          # action probability is deterministic\n",
        "          action_prob = 1 if policy.get(s) == a else 0\n",
        "\n",
        "          r = rewards.get((s, a, s2), 0)\n",
        "          new_v += action_prob * transition_probs.get((s, a, s2), 0) * (r + gamma * V[s2])\n",
        "\n",
        "      V[s] = new_v\n",
        "      biggest_change = max(biggest_change, np.abs(old_v - new_v))\n",
        "\n",
        "  print(\"iter:\", it, \"biggest_change:\", biggest_change)\n",
        "  print_values(V, grid)\n",
        "  it += 1\n",
        "\n",
        "  if biggest_change <= SMALL_ENOUGH:\n",
        "    break"
      ],
      "metadata": {
        "colab": {
          "base_uri": "https://localhost:8080/"
        },
        "id": "cq671ZWCU7bA",
        "outputId": "777cce1d-0d99-475f-adde-94ba8d884285"
      },
      "execution_count": 13,
      "outputs": [
        {
          "output_type": "stream",
          "name": "stdout",
          "text": [
            "iter: 0 biggest_change: 1.0\n",
            "---------------------------\n",
            " 0.00| 0.00| 1.00| 0.00|\n",
            "---------------------------\n",
            " 0.00| 0.00| 0.00| 0.00|\n",
            "---------------------------\n",
            " 0.00| 0.00| 0.00| 0.00|\n",
            "iter: 1 biggest_change: 0.9\n",
            "---------------------------\n",
            " 0.81| 0.90| 1.00| 0.00|\n",
            "---------------------------\n",
            " 0.73| 0.00| 0.90| 0.00|\n",
            "---------------------------\n",
            " 0.00| 0.00| 0.81| 0.00|\n",
            "iter: 2 biggest_change: 0.7290000000000001\n",
            "---------------------------\n",
            " 0.81| 0.90| 1.00| 0.00|\n",
            "---------------------------\n",
            " 0.73| 0.00| 0.90| 0.00|\n",
            "---------------------------\n",
            " 0.66| 0.73| 0.81| 0.73|\n",
            "iter: 3 biggest_change: 0\n",
            "---------------------------\n",
            " 0.81| 0.90| 1.00| 0.00|\n",
            "---------------------------\n",
            " 0.73| 0.00| 0.90| 0.00|\n",
            "---------------------------\n",
            " 0.66| 0.73| 0.81| 0.73|\n"
          ]
        }
      ]
    },
    {
      "cell_type": "code",
      "source": [],
      "metadata": {
        "id": "I2jEaCohWvma"
      },
      "execution_count": 11,
      "outputs": []
    }
  ]
}