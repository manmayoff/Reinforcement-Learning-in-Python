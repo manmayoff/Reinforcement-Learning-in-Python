{
  "nbformat": 4,
  "nbformat_minor": 0,
  "metadata": {
    "colab": {
      "provenance": []
    },
    "kernelspec": {
      "name": "python3",
      "display_name": "Python 3"
    },
    "language_info": {
      "name": "python"
    }
  },
  "cells": [
    {
      "cell_type": "code",
      "execution_count": 8,
      "metadata": {
        "id": "Q-JDH0wi-GWL"
      },
      "outputs": [],
      "source": [
        "import numpy as np"
      ]
    },
    {
      "cell_type": "code",
      "source": [
        "ACTION_SPACE = ('U', 'D', 'L', 'R')"
      ],
      "metadata": {
        "id": "NGajUH_o-q59"
      },
      "execution_count": 9,
      "outputs": []
    },
    {
      "cell_type": "code",
      "source": [
        "class Grid:\n",
        "  def __init__(self, rows, cols, start):\n",
        "    self.rows = rows\n",
        "    self.cols = cols\n",
        "    self.i = start[0]\n",
        "    self.j = start[1]\n",
        "\n",
        "  def set(self, rewards, actions):\n",
        "    # rewards : dict of (i, j) -> reward\n",
        "    # actions : dist of (i, j) -> list of possible actions\n",
        "    self.rewards = rewards\n",
        "    self.actions = actions\n",
        "\n",
        "  def set_state(self, s):\n",
        "    self.i = s[0]\n",
        "    self.j = s[1]\n",
        "\n",
        "  def current_state(self):\n",
        "    return (self.i, self.j)\n",
        "\n",
        "  def is_terminal(self, s):\n",
        "    return s not in self.actions\n",
        "\n",
        "  def reset(self):\n",
        "    # put agent back in start position\n",
        "    self.i = 2\n",
        "    self.j = 0\n",
        "    return (self.i, self.j)\n",
        "\n",
        "  def get_next_state(self, s, a):\n",
        "    i, j = s[0], s[1]\n",
        "\n",
        "    if a in self.actions[(i, j)]:\n",
        "      if a == 'U':\n",
        "        i -= 1\n",
        "      elif a == 'D':\n",
        "        i += 1\n",
        "      elif a == 'L':\n",
        "        j -= 1\n",
        "      elif a == 'R':\n",
        "        j += 1\n",
        "\n",
        "    return i, j\n",
        "\n",
        "  def move(self, action):\n",
        "    if action in self.actions[(self.i, self.j)]:\n",
        "      if action == 'U':\n",
        "        self.i -= 1\n",
        "      elif action == 'D':\n",
        "        self.i += 1\n",
        "      elif action == 'L':\n",
        "        self.j -= 1\n",
        "      elif action == 'R':\n",
        "        self.j += 1\n",
        "\n",
        "    return self.rewards.get((self.i, self.j), 0)\n",
        "\n",
        "  def undo_move(self, action):\n",
        "    if action == 'U':\n",
        "      self.i += 1\n",
        "    elif action == 'D':\n",
        "      self.i -= 1\n",
        "    elif action == 'L':\n",
        "      self.j += 1\n",
        "    elif action == 'R':\n",
        "      self.j -= 1\n",
        "\n",
        "  def game_over(self):\n",
        "    return (self.i, self.j) not in self.actions\n",
        "\n",
        "  def all_states(self):\n",
        "    return set(self.actions.keys()) | set(self.rewards.keys())"
      ],
      "metadata": {
        "id": "GmZUS12P-tp4"
      },
      "execution_count": 10,
      "outputs": []
    },
    {
      "cell_type": "code",
      "source": [
        "def standard_grid():\n",
        "  g = Grid(3, 4, (2, 0))\n",
        "  rewards = {(0, 3): 1, (1, 3): -1}\n",
        "  actions = {\n",
        "      (0, 0): ('D', 'R'),\n",
        "      (0, 1): ('L', 'R'),\n",
        "      (0, 2): ('L', 'D', 'R'),\n",
        "      (1, 0): ('U', 'D'),\n",
        "      (1, 2): ('U', 'D', 'R'),\n",
        "      (2, 0): ('U', 'R'),\n",
        "      (2, 1): ('L', 'R'),\n",
        "      (2, 2): ('L', 'R', 'U'),\n",
        "      (2, 3): ('L', 'U'),\n",
        "  }\n",
        "  g.set(rewards, actions)\n",
        "  return g\n",
        "\n"
      ],
      "metadata": {
        "id": "_KEIRqcu_E5a"
      },
      "execution_count": 11,
      "outputs": []
    },
    {
      "cell_type": "code",
      "source": [
        "SMALL_ENOUGH = 1e-3\n",
        "GAMMA = 0.9"
      ],
      "metadata": {
        "id": "2vrBxnKk_RRr"
      },
      "execution_count": 12,
      "outputs": []
    },
    {
      "cell_type": "code",
      "source": [
        "def get_transition_probs_and_rewards(grid):\n",
        "  # key -> (s, a, s')\n",
        "  # value -> p(s' | s, a)\n",
        "\n",
        "  transition_probs = {}\n",
        "\n",
        "  # key -> (s, a, s')\n",
        "  # value -> r(s, a, s')\n",
        "\n",
        "  rewards = {}\n",
        "\n",
        "\n",
        "  for i in range(grid.rows):\n",
        "    for j in range(grid.cols):\n",
        "      s = (i, j)\n",
        "      if not grid.is_terminal(s):\n",
        "        for a in ACTION_SPACE:\n",
        "          s2 = grid.get_next_state(s, a)\n",
        "          transition_probs[(s, a, s2)] = 1\n",
        "          if s2 in grid.rewards:\n",
        "            rewards[(s, a, s2)] = grid.rewards[s2]\n",
        "\n",
        "  return transition_probs, rewards"
      ],
      "metadata": {
        "id": "NSfELoe7_W9Y"
      },
      "execution_count": 18,
      "outputs": []
    },
    {
      "cell_type": "code",
      "source": [
        "def evaluate_deterministic_policy(grid, policy):\n",
        "  # initialize V(s) = 0\n",
        "  V = {}\n",
        "  for s in grid.all_states():\n",
        "    V[s] = 0\n",
        "\n",
        "  # repeat till convergence\n",
        "  it = 0\n",
        "  while True:\n",
        "    biggest_change = 0\n",
        "    for s in grid.all_states():\n",
        "      if not grid.is_terminal(s):\n",
        "        old_v = V[s]\n",
        "        new_v = 0 # will accumulate\n",
        "        for a in ACTION_SPACE:\n",
        "          for s2 in grid.all_states():\n",
        "            # deterministic action policy\n",
        "            action_prob = 1 if policy.get(s) == a else 0\n",
        "\n",
        "            # reward is a function of (s, a, s'), 0 if not specified\n",
        "            r = rewards.get((s, a, s2), 0)\n",
        "            new_v += action_prob * transition_probs.get((s, a, s2), 0) * (r + GAMMA * V[s2])\n",
        "\n",
        "        V[s] = new_v\n",
        "        biggest_change = max(biggest_change, np.abs(old_v - V[s]))\n",
        "    it += 1\n",
        "    if biggest_change < SMALL_ENOUGH:\n",
        "      break\n",
        "  return V"
      ],
      "metadata": {
        "id": "wI0QzJz_BLMO"
      },
      "execution_count": 22,
      "outputs": []
    },
    {
      "cell_type": "code",
      "source": [
        "from tabulate import tabulate"
      ],
      "metadata": {
        "id": "8CYHHuNmZIdz"
      },
      "execution_count": 16,
      "outputs": []
    },
    {
      "cell_type": "code",
      "source": [
        "def print_values(V, g) :\n",
        "  table = []\n",
        "  for i in range(g.rows) :\n",
        "    row = []\n",
        "    for j in range(g.cols) :\n",
        "      v = V.get((i, j), 0)\n",
        "      row.append(v)\n",
        "    table.append(row)\n",
        "  print(tabulate(table, tablefmt=\"grid\", floatfmt=\".3f\"))\n",
        "\n",
        "def print_policy(P, g) :\n",
        "  table = []\n",
        "  for i in range(g.rows) :\n",
        "    row = []\n",
        "    for j in range(g.cols) :\n",
        "      a = P.get((i, j), ' ')\n",
        "      row.append(a)\n",
        "    table.append(row)\n",
        "  print(tabulate(table, tablefmt=\"grid\"))"
      ],
      "metadata": {
        "id": "maZ1NA-RY86G"
      },
      "execution_count": 15,
      "outputs": []
    },
    {
      "cell_type": "code",
      "source": [
        "grid = standard_grid()\n",
        "transition_probs, rewards = get_transition_probs_and_rewards(grid)\n",
        "\n",
        "print(\"rewards\\n\")\n",
        "print_values(grid.rewards, grid)"
      ],
      "metadata": {
        "colab": {
          "base_uri": "https://localhost:8080/"
        },
        "id": "uqpPNZW4ZG5Z",
        "outputId": "2a8f42f8-33ab-4b0c-e834-20454e5316b8"
      },
      "execution_count": 19,
      "outputs": [
        {
          "output_type": "stream",
          "name": "stdout",
          "text": [
            "rewards\n",
            "\n",
            "+---+---+---+----+\n",
            "| 0 | 0 | 0 |  1 |\n",
            "+---+---+---+----+\n",
            "| 0 | 0 | 0 | -1 |\n",
            "+---+---+---+----+\n",
            "| 0 | 0 | 0 |  0 |\n",
            "+---+---+---+----+\n"
          ]
        }
      ]
    },
    {
      "cell_type": "code",
      "source": [
        "policy = {}\n",
        "for s in grid.actions.keys():\n",
        "  policy[s] = np.random.choice(ACTION_SPACE)\n",
        "\n",
        "print(\"initial policy\")\n",
        "print_policy(policy, grid)"
      ],
      "metadata": {
        "colab": {
          "base_uri": "https://localhost:8080/"
        },
        "id": "2dlS8okkZc7m",
        "outputId": "ce60ae38-4d73-41a7-e82d-dec3b49437e6"
      },
      "execution_count": 20,
      "outputs": [
        {
          "output_type": "stream",
          "name": "stdout",
          "text": [
            "initial policy\n",
            "+---+---+---+---+\n",
            "| R | L | L |   |\n",
            "+---+---+---+---+\n",
            "| D |   | D |   |\n",
            "+---+---+---+---+\n",
            "| U | D | L | U |\n",
            "+---+---+---+---+\n"
          ]
        }
      ]
    },
    {
      "cell_type": "code",
      "source": [
        "# repeat until convergence\n",
        "while True:\n",
        "\n",
        "  # policy evaluation step\n",
        "  V = evaluate_deterministic_policy(grid, policy)\n",
        "\n",
        "  # policy improvement step\n",
        "  is_policy_stable = True\n",
        "  for s in grid.actions.keys():\n",
        "    old_a = policy[s]\n",
        "    new_a = None\n",
        "    best_value = float('-inf')\n",
        "\n",
        "    # finding the best action\n",
        "    for a in ACTION_SPACE:\n",
        "      v = 0\n",
        "      for s2 in grid.all_states():\n",
        "        r = rewards.get((s, a, s2), 0)\n",
        "        v += transition_probs.get((s, a, s2), 0) * (r + GAMMA * V[s2])\n",
        "\n",
        "      if v > best_value:\n",
        "        best_value = v\n",
        "        new_a = a\n",
        "    policy[s] = new_a\n",
        "    if new_a != old_a:\n",
        "      is_policy_stable = False\n",
        "  if is_policy_stable:\n",
        "    break"
      ],
      "metadata": {
        "id": "Ub2i2OIaa95i"
      },
      "execution_count": 23,
      "outputs": []
    },
    {
      "cell_type": "code",
      "source": [
        "print(\"values:\\n\")\n",
        "print_values(V, grid)\n",
        "print(\"\\npolicy:\\n\")\n",
        "print_values(policy, grid)"
      ],
      "metadata": {
        "colab": {
          "base_uri": "https://localhost:8080/"
        },
        "id": "6ORrk0H-ccSF",
        "outputId": "b4783983-9d17-4aa5-d957-47386d420176"
      },
      "execution_count": 24,
      "outputs": [
        {
          "output_type": "stream",
          "name": "stdout",
          "text": [
            "values:\n",
            "\n",
            "+-------+-------+-------+-------+\n",
            "| 0.810 | 0.900 | 1.000 | 0.000 |\n",
            "+-------+-------+-------+-------+\n",
            "| 0.729 | 0.000 | 0.900 | 0.000 |\n",
            "+-------+-------+-------+-------+\n",
            "| 0.656 | 0.729 | 0.810 | 0.729 |\n",
            "+-------+-------+-------+-------+\n",
            "\n",
            "policy:\n",
            "\n",
            "+---+---+---+---+\n",
            "| R | R | R | 0 |\n",
            "+---+---+---+---+\n",
            "| U | 0 | U | 0 |\n",
            "+---+---+---+---+\n",
            "| U | R | U | L |\n",
            "+---+---+---+---+\n"
          ]
        }
      ]
    },
    {
      "cell_type": "code",
      "source": [],
      "metadata": {
        "id": "L2cge6r0c95e"
      },
      "execution_count": null,
      "outputs": []
    }
  ]
}