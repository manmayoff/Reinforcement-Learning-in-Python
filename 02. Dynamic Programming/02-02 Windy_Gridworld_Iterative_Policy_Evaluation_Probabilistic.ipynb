{
  "nbformat": 4,
  "nbformat_minor": 0,
  "metadata": {
    "colab": {
      "provenance": []
    },
    "kernelspec": {
      "name": "python3",
      "display_name": "Python 3"
    },
    "language_info": {
      "name": "python"
    }
  },
  "cells": [
    {
      "cell_type": "code",
      "execution_count": 1,
      "metadata": {
        "id": "jK7plDaea6A8"
      },
      "outputs": [],
      "source": [
        "import numpy as np"
      ]
    },
    {
      "cell_type": "code",
      "source": [
        "ACTION_SPACE = ('U', 'D', 'L', 'R')"
      ],
      "metadata": {
        "id": "iEwEtXC2bcG-"
      },
      "execution_count": 2,
      "outputs": []
    },
    {
      "cell_type": "code",
      "source": [
        "class WindyGrid:\n",
        "  def __init__(self, rows, cols, start):\n",
        "    self.rows = rows\n",
        "    self.cols = cols\n",
        "    self.i = start[0]\n",
        "    self.j = start[1]\n",
        "\n",
        "  def set(self, rewards, actions, probs):\n",
        "    self.rewards = rewards\n",
        "    self.actions = actions\n",
        "    self.probs = probs\n",
        "\n",
        "  def set_state(self, s):\n",
        "    self.i = s[0]\n",
        "    self.j = s[1]\n",
        "\n",
        "  def current_state(self):\n",
        "    return (self.i, self.j)\n",
        "\n",
        "  def is_terminal(self, s):\n",
        "    return s not in self.actions\n",
        "\n",
        "  def move(self, action):\n",
        "    s = (self.i, self.j)\n",
        "    a = action\n",
        "\n",
        "    next_state_probs = self.probs[(s, a)]\n",
        "    next_states = list(next_state_probs.keys())\n",
        "    next_probs = list(next_state_probs.values())\n",
        "    s2 = np.random.choice(next_states, p=next_probs)\n",
        "\n",
        "    # update the current state\n",
        "    self.i, self.j = s2\n",
        "\n",
        "    return self.rewards.get(s2, 0)\n",
        "\n",
        "  def game_over(self):\n",
        "    return (self.i, self.j) not in self.actions\n",
        "\n",
        "  def all_states(self):\n",
        "    return set(self.actions.keys()) | set(self.rewards.keys())"
      ],
      "metadata": {
        "id": "ZVOVNr6AbelU"
      },
      "execution_count": 3,
      "outputs": []
    },
    {
      "cell_type": "code",
      "source": [
        "def windy_grid():\n",
        "  g = WindyGrid(3, 4, (2, 0))\n",
        "  rewards = {(0, 3) : 1, (1, 3) : -1}\n",
        "  actions = {\n",
        "      (0, 0) : ('D', 'R'),\n",
        "      (0, 1) : ('R', 'L'),\n",
        "      (0, 2) : ('R', 'L', 'D'),\n",
        "      (1, 0) : ('U', 'D'),\n",
        "      (1, 2) : ('U', 'R', 'D'),\n",
        "      (2, 0) : ('U', 'R'),\n",
        "      (2, 1) : ('L', 'R'),\n",
        "      (2, 2) : ('L', 'U', 'R'),\n",
        "      (2, 3) : ('L', 'U')\n",
        "  }\n",
        "  # p(s' | s, a) represented as:\n",
        "  # KEY: (s, a) --> VALUE: {s': p(s' | s, a)}\n",
        "  probs = {\n",
        "      ((2, 0), 'U'): {(1, 0): 1.0},\n",
        "      ((2, 0), 'D'): {(2, 0): 1.0},\n",
        "      ((2, 0), 'L'): {(2, 0): 1.0},\n",
        "      ((2, 0), 'R'): {(2, 1): 1.0},\n",
        "      ((1, 0), 'U'): {(0, 0): 1.0},\n",
        "      ((1, 0), 'D'): {(2, 0): 1.0},\n",
        "      ((1, 0), 'L'): {(1, 0): 1.0},\n",
        "      ((1, 0), 'R'): {(1, 0): 1.0},\n",
        "      ((0, 0), 'U'): {(0, 0): 1.0},\n",
        "      ((0, 0), 'D'): {(1, 0): 1.0},\n",
        "      ((0, 0), 'L'): {(0, 0): 1.0},\n",
        "      ((0, 0), 'R'): {(0, 1): 1.0},\n",
        "      ((0, 1), 'U'): {(0, 1): 1.0},\n",
        "      ((0, 1), 'D'): {(0, 1): 1.0},\n",
        "      ((0, 1), 'L'): {(0, 0): 1.0},\n",
        "      ((0, 1), 'R'): {(0, 2): 1.0},\n",
        "      ((0, 2), 'U'): {(0, 2): 1.0},\n",
        "      ((0, 2), 'D'): {(1, 2): 1.0},\n",
        "      ((0, 2), 'L'): {(0, 1): 1.0},\n",
        "      ((0, 2), 'R'): {(0, 3): 1.0},\n",
        "      ((2, 1), 'U'): {(2, 1): 1.0},\n",
        "      ((2, 1), 'D'): {(2, 1): 1.0},\n",
        "      ((2, 1), 'L'): {(2, 0): 1.0},\n",
        "      ((2, 1), 'R'): {(2, 2): 1.0},\n",
        "      ((2, 2), 'U'): {(1, 2): 1.0},\n",
        "      ((2, 2), 'D'): {(2, 2): 1.0},\n",
        "      ((2, 2), 'L'): {(2, 1): 1.0},\n",
        "      ((2, 2), 'R'): {(2, 3): 1.0},\n",
        "      ((2, 3), 'U'): {(1, 3): 1.0},\n",
        "      ((2, 3), 'D'): {(2, 3): 1.0},\n",
        "      ((2, 3), 'L'): {(2, 2): 1.0},\n",
        "      ((2, 3), 'R'): {(2, 3): 1.0},\n",
        "      ((1, 2), 'U'): {(0, 2): 0.5, (1, 3): 0.5},\n",
        "      ((1, 2), 'D'): {(2, 2): 1.0},\n",
        "      ((1, 2), 'L'): {(1, 2): 1.0},\n",
        "      ((1, 2), 'R'): {(1, 3): 1.0},\n",
        "  }\n",
        "  g.set(rewards, actions, probs)\n",
        "  return g"
      ],
      "metadata": {
        "id": "aH0YB1ElcqQU"
      },
      "execution_count": 4,
      "outputs": []
    },
    {
      "cell_type": "code",
      "source": [
        "from tabulate import tabulate"
      ],
      "metadata": {
        "id": "EuNnkOeKdsvy"
      },
      "execution_count": 5,
      "outputs": []
    },
    {
      "cell_type": "code",
      "source": [
        "SMALL_ENOUGH = 1e-3"
      ],
      "metadata": {
        "id": "FCVYKOnDd1yB"
      },
      "execution_count": 6,
      "outputs": []
    },
    {
      "cell_type": "code",
      "source": [
        "def print_values(V, g) :\n",
        "  table = []\n",
        "  for i in range(g.rows) :\n",
        "    row = []\n",
        "    for j in range(g.cols) :\n",
        "      v = V.get((i, j), 0)\n",
        "      row.append(v)\n",
        "    table.append(row)\n",
        "  print(tabulate(table, tablefmt=\"grid\", floatfmt=\".3f\"))\n",
        "\n",
        "def print_policy(P, g) :\n",
        "  table = []\n",
        "  for i in range(g.rows) :\n",
        "    row = []\n",
        "    for j in range(g.cols) :\n",
        "      a = P.get((i, j), ' ')\n",
        "      row.append(a)\n",
        "    table.append(row)\n",
        "  print(tabulate(table, tablefmt=\"grid\"))"
      ],
      "metadata": {
        "id": "Lx4JjtNSd6sX"
      },
      "execution_count": 7,
      "outputs": []
    },
    {
      "cell_type": "code",
      "source": [
        "# transition_probs[(s, a, s')] = p(s' | s, a)\n",
        "transition_probs = {}\n",
        "\n",
        "# key -> (s, a, s')\n",
        "rewards = {}\n",
        "\n",
        "grid = windy_grid()\n",
        "for (s, a), v in grid.probs.items():\n",
        "  for s2, p in v.items():\n",
        "    transition_probs[(s, a, s2)] = p\n",
        "    rewards[(s, a, s2)] = grid.rewards.get(s2, 0)\n",
        "\n",
        "## probabilistic policy\n",
        "policy = {\n",
        "    (2, 0) : {'U' : 0.5, 'R' : 0.5},\n",
        "    (1, 0) : {'U' : 1.0},\n",
        "    (0, 0) : {'R' : 1.0},\n",
        "    (0, 1) : {'R' : 1.0},\n",
        "    (0, 2) : {'R' : 1.0},\n",
        "    (1, 2) : {'U' : 1.0},\n",
        "    (2, 1) : {'R' : 1.0},\n",
        "    (2, 2) : {'U' : 1.0},\n",
        "    (2, 3) : {'L' : 1.0},\n",
        "}\n",
        "print_policy(policy, grid)"
      ],
      "metadata": {
        "colab": {
          "base_uri": "https://localhost:8080/"
        },
        "id": "mP_pOzGMeD8B",
        "outputId": "bef64f70-5e65-4e46-ad2d-8c1e21568c02"
      },
      "execution_count": 9,
      "outputs": [
        {
          "output_type": "stream",
          "name": "stdout",
          "text": [
            "+----------------------+------------+------------+------------+\n",
            "| {'R': 1.0}           | {'R': 1.0} | {'R': 1.0} |            |\n",
            "+----------------------+------------+------------+------------+\n",
            "| {'U': 1.0}           |            | {'U': 1.0} |            |\n",
            "+----------------------+------------+------------+------------+\n",
            "| {'U': 0.5, 'R': 0.5} | {'R': 1.0} | {'U': 1.0} | {'L': 1.0} |\n",
            "+----------------------+------------+------------+------------+\n"
          ]
        }
      ]
    },
    {
      "cell_type": "code",
      "source": [
        "# inititalize V(s) = 0\n",
        "V = {}\n",
        "for s in grid.all_states():\n",
        "  V[s] = 0\n",
        "\n",
        "gamma = 0.9 # discount factor\n",
        "\n",
        "# repeat until convergence\n",
        "it = 0\n",
        "while True:\n",
        "  biggest_change = 0\n",
        "  for s in grid.all_states():\n",
        "    if not grid.is_terminal(s):\n",
        "      old_v = V[s]\n",
        "      new_v = 0\n",
        "\n",
        "      for a in ACTION_SPACE:\n",
        "        for s2 in grid.all_states():\n",
        "          action_prob = policy[s].get(a, 0)\n",
        "\n",
        "          r = rewards.get((s, a, s2), 0)\n",
        "          new_v += action_prob * transition_probs.get((s, a, s2), 0) * (r + gamma * V[s2])\n",
        "\n",
        "      V[s] = new_v\n",
        "      biggest_change = max(biggest_change, np.abs(old_v - V[s]))\n",
        "\n",
        "  print(\"iter:\", it, \"biggest_change:\", biggest_change)\n",
        "  print_values(V, grid)\n",
        "  it += 1\n",
        "\n",
        "  if biggest_change < SMALL_ENOUGH:\n",
        "    break"
      ],
      "metadata": {
        "colab": {
          "base_uri": "https://localhost:8080/"
        },
        "id": "Ct1OMVY8eOlO",
        "outputId": "3ea655b5-ff2a-4b8b-9178-c2c5e54177e6"
      },
      "execution_count": 12,
      "outputs": [
        {
          "output_type": "stream",
          "name": "stdout",
          "text": [
            "iter: 0 biggest_change: 1.0\n",
            "+-------+-------+--------+-------+\n",
            "| 0.000 | 0.000 |  1.000 | 0.000 |\n",
            "+-------+-------+--------+-------+\n",
            "| 0.000 | 0.000 | -0.500 | 0.000 |\n",
            "+-------+-------+--------+-------+\n",
            "| 0.000 | 0.000 | -0.450 | 0.000 |\n",
            "+-------+-------+--------+-------+\n",
            "iter: 1 biggest_change: 0.9\n",
            "+--------+--------+--------+--------+\n",
            "|  0.810 |  0.900 |  1.000 |  0.000 |\n",
            "+--------+--------+--------+--------+\n",
            "|  0.729 |  0.000 | -0.050 |  0.000 |\n",
            "+--------+--------+--------+--------+\n",
            "| -0.182 | -0.405 | -0.045 | -0.405 |\n",
            "+--------+--------+--------+--------+\n",
            "iter: 2 biggest_change: 0.4920750000000001\n",
            "+-------+--------+--------+--------+\n",
            "| 0.810 |  0.900 |  1.000 |  0.000 |\n",
            "+-------+--------+--------+--------+\n",
            "| 0.729 |  0.000 | -0.050 |  0.000 |\n",
            "+-------+--------+--------+--------+\n",
            "| 0.310 | -0.040 | -0.045 | -0.040 |\n",
            "+-------+--------+--------+--------+\n",
            "iter: 3 biggest_change: 0\n",
            "+-------+--------+--------+--------+\n",
            "| 0.810 |  0.900 |  1.000 |  0.000 |\n",
            "+-------+--------+--------+--------+\n",
            "| 0.729 |  0.000 | -0.050 |  0.000 |\n",
            "+-------+--------+--------+--------+\n",
            "| 0.310 | -0.040 | -0.045 | -0.040 |\n",
            "+-------+--------+--------+--------+\n"
          ]
        }
      ]
    },
    {
      "cell_type": "code",
      "source": [],
      "metadata": {
        "id": "AIusgIS8gogz"
      },
      "execution_count": null,
      "outputs": []
    }
  ]
}