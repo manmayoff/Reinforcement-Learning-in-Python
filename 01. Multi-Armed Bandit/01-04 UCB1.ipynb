{
  "nbformat": 4,
  "nbformat_minor": 0,
  "metadata": {
    "colab": {
      "provenance": []
    },
    "kernelspec": {
      "name": "python3",
      "display_name": "Python 3"
    },
    "language_info": {
      "name": "python"
    }
  },
  "cells": [
    {
      "cell_type": "code",
      "execution_count": 1,
      "metadata": {
        "id": "4Ttc3w1SPVaX"
      },
      "outputs": [],
      "source": [
        "import numpy as np\n",
        "import matplotlib.pyplot as plt"
      ]
    },
    {
      "cell_type": "code",
      "source": [
        "NUM_TRIALS = 100000\n",
        "EPS = 0.1\n",
        "BANDIT_PROBABILITIES = [0.2, 0.5, 0.75]"
      ],
      "metadata": {
        "id": "beQFL_mMPcOz"
      },
      "execution_count": 14,
      "outputs": []
    },
    {
      "cell_type": "code",
      "source": [
        "class Bandit:\n",
        "  def __init__(self, p):\n",
        "    # p : win rate\n",
        "    self.p = p\n",
        "    self.p_estimate = 1.\n",
        "    self.N = 0.\n",
        "\n",
        "  def pull(self):\n",
        "    # draw a 1 with probability p\n",
        "    return np.random.random() < self.p\n",
        "\n",
        "  def update(self, x):\n",
        "    self.N += 1\n",
        "    self.p_estimate = ((self.N - 1) * self.p_estimate + x) / self.N"
      ],
      "metadata": {
        "id": "wSxEs9GTPk_z"
      },
      "execution_count": 21,
      "outputs": []
    },
    {
      "cell_type": "code",
      "source": [
        "def ucb1(mean, n, nj):\n",
        "  return mean * np.sqrt(2 * np.log(n) / nj)"
      ],
      "metadata": {
        "id": "XiGh_HaxQBPd"
      },
      "execution_count": 22,
      "outputs": []
    },
    {
      "cell_type": "code",
      "source": [
        "def run_experiment():\n",
        "  bandits = [Bandit(p) for p in BANDIT_PROBABILITIES]\n",
        "  rewards = np.empty(NUM_TRIALS)\n",
        "  total_plays = 0\n",
        "\n",
        "  # inititially play each bandit once\n",
        "  for j in range(len(bandits)):\n",
        "    x = bandits[j].pull()\n",
        "    total_plays += 1\n",
        "    bandits[j].update(x)\n",
        "\n",
        "  for i in range(NUM_TRIALS):\n",
        "    j = np.argmax([ucb1(b.p_estimate, total_plays, b.N) for b in bandits])\n",
        "    x = bandits[j].pull()\n",
        "    total_plays += 1\n",
        "    bandits[j].update(x)\n",
        "\n",
        "    rewards[i] = x\n",
        "\n",
        "  cumulative_average = np.cumsum(rewards) / (np.arange(NUM_TRIALS) + 1)\n",
        "\n",
        "\n",
        "  # plot moving average\n",
        "  plt.plot(cumulative_average)\n",
        "  plt.plot(np.ones(NUM_TRIALS) * np.max(BANDIT_PROBABILITIES))\n",
        "  plt.xscale('log')\n",
        "  plt.show()\n",
        "\n",
        "  for b in bandits:\n",
        "    print(b.p_estimate)"
      ],
      "metadata": {
        "id": "jKYl855kQNQP"
      },
      "execution_count": 23,
      "outputs": []
    },
    {
      "cell_type": "code",
      "source": [
        "run_experiment()"
      ],
      "metadata": {
        "colab": {
          "base_uri": "https://localhost:8080/",
          "height": 506
        },
        "id": "H6ynNum9RYkn",
        "outputId": "d1e028bb-4252-488b-f738-c730e829b6c5"
      },
      "execution_count": 24,
      "outputs": [
        {
          "output_type": "display_data",
          "data": {
            "text/plain": [
              "<Figure size 640x480 with 1 Axes>"
            ],
            "image/png": "[encoded data removed]"
          },
          "metadata": {}
        },
        {
          "output_type": "stream",
          "name": "stdout",
          "text": [
            "0.20150187734668365\n",
            "0.4964419540032328\n",
            "0.7484422262552911\n"
          ]
        }
      ]
    },
    {
      "cell_type": "code",
      "source": [],
      "metadata": {
        "id": "WwAfQ2iuRa3Y"
      },
      "execution_count": null,
      "outputs": []
    }
  ]
}